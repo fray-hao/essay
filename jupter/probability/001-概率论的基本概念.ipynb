{
 "cells": [
  {
   "cell_type": "markdown",
   "metadata": {},
   "source": [
    "## 1. 确定性现象与随机现象\n",
    "自然界和社会上发生的现象是多种多样的，有一类现象，在一定条件下必然发生，例如，向上抛一枚石子，同性电荷必相互排斥，等等。这类现象称为**确定性现象**\n",
    "\n",
    "在自然界和社会上存在着另一类现象，例如，在相同条件下抛同一枚硬币，其结果可能是是正面朝上，也可能是背面朝上，并且在每次抛掷之前无法肯定抛掷的结果是什么。这类现象，在一定的条件下，可能出现这样的结果，也可能出现那样的结果，而在试验或观察之前不能预知确切的结果，但人们经过长期实践并深入研究后，发现这类现象在大量重复试验或观察下，它的结果却呈现出某种规律性。例如，多次重复抛一枚硬币得到正面朝上大致有一半。这种在个别试验中其结果呈现出不确定性，在大量重复试验中其结果又具有统计规律性的现象，我们称之为**随机现象**"
   ]
  },
  {
   "cell_type": "markdown",
   "metadata": {},
   "source": [
    "## 2. 随机试验\n",
    "在概率论中，我们将具有下述三个特点的试验称为随机试验：\n",
    "1. 可以在相同的条件下重复进行\n",
    "2. 每次试验的可能结果不止一个，并且能事先明确试验的所有可能结果。\n",
    "3. 进行一次试验之前不能确定哪一个结果会出现"
   ]
  },
  {
   "cell_type": "markdown",
   "metadata": {},
   "source": [
    "## 3. 样本空间\n",
    "对于随机试验，尽管在每次试验之前不能预知试验的结果，但试验的所有可能结果组成的集合是已知的，我们将随机试验E的所有可能结果组成的集合称为E的样本空间，记作$\\Omega$。样本空间的元素$\\omega$，即E的每个结果,称为样本点"
   ]
  },
  {
   "cell_type": "markdown",
   "metadata": {},
   "source": [
    "例如在抛硬币实验中，称ω1为“正面朝上”，称ω2为“背面朝上”，则可以表示为如下python代码："
   ]
  },
  {
   "cell_type": "code",
   "execution_count": 3,
   "metadata": {},
   "outputs": [],
   "source": [
    "# 样本点\n",
    "w1 = \"正面朝上\"\n",
    "w2 = \"反面朝上\" "
   ]
  },
  {
   "cell_type": "markdown",
   "metadata": {},
   "source": [
    "样本空间（为方便，python示例代码写作Omega），则可有如下python表述："
   ]
  },
  {
   "cell_type": "code",
   "execution_count": 5,
   "metadata": {},
   "outputs": [],
   "source": [
    " # 样本空间\n",
    "Omega = {w1,w2}"
   ]
  },
  {
   "cell_type": "markdown",
   "metadata": {},
   "source": [
    "## 4. 随机事件\n",
    "我们称样本空间$\\Omega$的子集为E的**随机事件**，简称**事件**。在每次试验中，当且仅当这一子集中的一个样本点出现时称这一**事件发生**\n",
    "\n",
    "特别的，由一个样本点组成的单点集，称为**基本事件**。例如，投硬币试验中有两个基本事件w1和w2\n",
    "\n",
    "样本空间$\\Omega$包含所有的样本点，它是$\\Omega$自身的子集，在每次试验中它总是发生的，$\\Omega$称为**必然事件**\n",
    "\n",
    "空集$\\phi$不包含任何样本点，它也作为样本空间的子集，它在每次试验中都不发生，$\\phi$称为不可能事件"
   ]
  },
  {
   "cell_type": "markdown",
   "metadata": {},
   "source": [
    "## 5. 事件的关系与事件的运算"
   ]
  },
  {
   "cell_type": "code",
   "execution_count": null,
   "metadata": {},
   "outputs": [],
   "source": []
  }
 ],
 "metadata": {
  "kernelspec": {
   "display_name": "Python 3",
   "language": "python",
   "name": "python3"
  },
  "language_info": {
   "codemirror_mode": {
    "name": "ipython",
    "version": 3
   },
   "file_extension": ".py",
   "mimetype": "text/x-python",
   "name": "python",
   "nbconvert_exporter": "python",
   "pygments_lexer": "ipython3",
   "version": "3.6.5"
  }
 },
 "nbformat": 4,
 "nbformat_minor": 2
}
